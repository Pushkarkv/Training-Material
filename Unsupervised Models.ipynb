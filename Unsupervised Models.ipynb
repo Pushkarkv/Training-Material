{
 "cells": [
  {
   "cell_type": "markdown",
   "id": "4086af4d",
   "metadata": {},
   "source": [
    "# Curse of Dimentionality"
   ]
  },
  {
   "cell_type": "markdown",
   "id": "ef93b405",
   "metadata": {},
   "source": [
    "The curse of dimensionality refers to various phenomena that arise when analyzing and organizing data in high-dimensional spaces that do not occur in low-dimensional settings such as the three-dimensional physical space of everyday experience.\n",
    "\n",
    "Dimensionally cursed phenomena occur in domains such as numerical analysis, sampling, combinatorics, machine learning, data mining and databases. The common theme of these problems is that when the dimensionality increases, the volume of the space increases so fast that the available data become sparse. This sparsity is problematic for any method that requires statistical significance. In order to obtain a statistically sound and reliable result, the amount of data needed to support the result often grows exponentially with the dimensionality. Also, organizing and searching data often relies on detecting areas where objects form groups with similar properties; in high dimensional data, however, all objects appear to be sparse and dissimilar in many ways, which prevents common data organization strategies from being efficient."
   ]
  },
  {
   "cell_type": "markdown",
   "id": "73701fe3",
   "metadata": {},
   "source": [
    "# Dimentionality Reduction"
   ]
  },
  {
   "cell_type": "markdown",
   "id": "3eb3e232",
   "metadata": {},
   "source": [
    "Dimensionality reduction, or dimension reduction, is the transformation of data from a high-dimensional space into a low-dimensional space so that the low-dimensional representation retains some meaningful properties of the original data, ideally close to its intrinsic dimension. Working in high-dimensional spaces can be undesirable for many reasons; raw data are often sparse as a consequence of the curse of dimensionality, and analyzing the data is usually computationally intractable. Dimensionality reduction is common in fields that deal with large numbers of observations and/or large numbers of variables, such as signal processing, speech recognition, neuroinformatics, and bioinformatics.\n",
    "\n",
    "Methods are commonly divided into linear and non-linear approaches. Approaches can also be divided into feature selection and feature extraction. Dimensionality reduction can be used for noise reduction, data visualization, cluster analysis, or as an intermediate step to facilitate other analyses."
   ]
  },
  {
   "cell_type": "markdown",
   "id": "604e0257",
   "metadata": {},
   "source": [
    "# PCA"
   ]
  },
  {
   "cell_type": "markdown",
   "id": "a04134d3",
   "metadata": {},
   "source": [
    "The main linear technique for dimensionality reduction, principal component analysis, performs a linear mapping of the data to a lower-dimensional space in such a way that the variance of the data in the low-dimensional representation is maximized. In practice, the covariance (and sometimes the correlation) matrix of the data is constructed and the eigenvectors on this matrix are computed. The eigenvectors that correspond to the largest eigenvalues (the principal components) can now be used to reconstruct a large fraction of the variance of the original data. Moreover, the first few eigenvectors can often be interpreted in terms of the large-scale physical behavior of the system, because they often contribute the vast majority of the system's energy, especially in low-dimensional systems. Still, this must be proven on a case-by-case basis as not all systems exhibit this behavior. The original space (with dimension of the number of points) has been reduced (with data loss, but hopefully retaining the most important variance) to the space spanned by a few eigenvectors."
   ]
  },
  {
   "cell_type": "markdown",
   "id": "e927d5d1",
   "metadata": {},
   "source": [
    "https://www.geeksforgeeks.org/eigen-values-and-eigen-vectors/"
   ]
  },
  {
   "cell_type": "code",
   "execution_count": 7,
   "id": "63cc2a7f",
   "metadata": {},
   "outputs": [
    {
     "data": {
      "text/html": [
       "<img src=\"data:image/jpeg;base64,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\" width=\"500\" height=\"200\"/>"
      ],
      "text/plain": [
       "<IPython.core.display.Image object>"
      ]
     },
     "execution_count": 7,
     "metadata": {},
     "output_type": "execute_result"
    }
   ],
   "source": [
    "from IPython.display import Image\n",
    "Image(url= \"data:image/jpeg;base64,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\", width=500, height=200)"
   ]
  },
  {
   "cell_type": "code",
   "execution_count": 9,
   "id": "a9d6a24c",
   "metadata": {},
   "outputs": [
    {
     "data": {
      "text/html": [
       "<img src=\"https://slideplayer.com/slide/12700209/76/images/30/PCA+vs+linear+regression.jpg\" width=\"400\" height=\"200\"/>"
      ],
      "text/plain": [
       "<IPython.core.display.Image object>"
      ]
     },
     "execution_count": 9,
     "metadata": {},
     "output_type": "execute_result"
    }
   ],
   "source": [
    "Image(url= \"https://slideplayer.com/slide/12700209/76/images/30/PCA+vs+linear+regression.jpg\", width=400, height=200)"
   ]
  },
  {
   "cell_type": "markdown",
   "id": "605c599e",
   "metadata": {},
   "source": [
    "# Non-negative matrix factorization"
   ]
  },
  {
   "cell_type": "markdown",
   "id": "35ae0d50",
   "metadata": {},
   "source": [
    "NMF decomposes a non-negative matrix to the product of two non-negative ones, which has been a promising tool in fields where only non-negative signals exist, such as astronomy. NMF is well known since the multiplicative update rule by Lee & Seung, which has been continuously developed: the inclusion of uncertainties, the consideration of missing data and parallel computation, sequential construction which leads to the stability and linearity of NMF, as well as other updates including handling missing data in digital image processing.\n",
    "\n",
    "With a stable component basis during construction, and a linear modeling process, sequential NMF is able to preserve the flux in direct imaging of circumstellar structures in astromony, as one of the methods of detecting exoplanets, especially for the direct imaging of circumstellar disks. In comparison with PCA, NMF does not remove the mean of the matrices which leads to unphysical non-negative fluxes, therefore NMF is able to preserve more information than PCA as demonstrated by Ren et al."
   ]
  },
  {
   "cell_type": "code",
   "execution_count": 11,
   "id": "58757cba",
   "metadata": {},
   "outputs": [
    {
     "data": {
      "text/html": [
       "<img src=\"https://miro.medium.com/max/1838/1*ru1Ek9T3FjkehDkD8FZoHQ.jpeg\" width=\"400\" height=\"200\"/>"
      ],
      "text/plain": [
       "<IPython.core.display.Image object>"
      ]
     },
     "execution_count": 11,
     "metadata": {},
     "output_type": "execute_result"
    }
   ],
   "source": [
    "Image(url= \"https://miro.medium.com/max/1838/1*ru1Ek9T3FjkehDkD8FZoHQ.jpeg\", width=400, height=200)"
   ]
  },
  {
   "cell_type": "code",
   "execution_count": 13,
   "id": "1113b06b",
   "metadata": {},
   "outputs": [
    {
     "data": {
      "text/html": [
       "<img src=\"https://www.researchgate.net/profile/Jun-Xu-67/publication/321344494/figure/fig1/AS:702109309751298@1544407312766/Diagram-of-matrix-factorization.png\" width=\"400\" height=\"200\"/>"
      ],
      "text/plain": [
       "<IPython.core.display.Image object>"
      ]
     },
     "execution_count": 13,
     "metadata": {},
     "output_type": "execute_result"
    }
   ],
   "source": [
    "Image(url= \"https://www.researchgate.net/profile/Jun-Xu-67/publication/321344494/figure/fig1/AS:702109309751298@1544407312766/Diagram-of-matrix-factorization.png\", width=400, height=200)"
   ]
  },
  {
   "cell_type": "code",
   "execution_count": 12,
   "id": "235416c3",
   "metadata": {},
   "outputs": [
    {
     "data": {
      "text/html": [
       "<img src=\"https://els-jbs-prod-cdn.jbs.elsevierhealth.com/cms/attachment/9758a790-ad48-41b9-b76a-4b66367bd841/gr1.jpg\" width=\"400\" height=\"200\"/>"
      ],
      "text/plain": [
       "<IPython.core.display.Image object>"
      ]
     },
     "execution_count": 12,
     "metadata": {},
     "output_type": "execute_result"
    }
   ],
   "source": [
    "Image(url= \"https://els-jbs-prod-cdn.jbs.elsevierhealth.com/cms/attachment/9758a790-ad48-41b9-b76a-4b66367bd841/gr1.jpg\", width=400, height=200)"
   ]
  },
  {
   "cell_type": "markdown",
   "id": "f8f54f97",
   "metadata": {},
   "source": [
    "# T-distributed Stochastic Neighbor Embedding"
   ]
  },
  {
   "cell_type": "markdown",
   "id": "56068c8c",
   "metadata": {},
   "source": [
    "T-distributed Stochastic Neighbor Embedding (t-SNE) is a non-linear dimensionality reduction technique useful for visualization of high-dimensional datasets. It is not recommended for use in analysis such as clustering or outlier detection since it does not necessarily preserve densities or distances well."
   ]
  },
  {
   "cell_type": "code",
   "execution_count": 14,
   "id": "dcebfe75",
   "metadata": {},
   "outputs": [
    {
     "data": {
      "text/html": [
       "<img src=\"https://1.bp.blogspot.com/-lPRGyin_9PE/X79c4SklGoI/AAAAAAAABBw/elm0fQLZCCY6AYUXx9NxNacyWFMog9X3wCLcBGAsYHQ/s640/mnist-tsne.png\" width=\"400\" height=\"200\"/>"
      ],
      "text/plain": [
       "<IPython.core.display.Image object>"
      ]
     },
     "execution_count": 14,
     "metadata": {},
     "output_type": "execute_result"
    }
   ],
   "source": [
    "Image(url= \"https://1.bp.blogspot.com/-lPRGyin_9PE/X79c4SklGoI/AAAAAAAABBw/elm0fQLZCCY6AYUXx9NxNacyWFMog9X3wCLcBGAsYHQ/s640/mnist-tsne.png\", width=400, height=200)"
   ]
  },
  {
   "cell_type": "markdown",
   "id": "7ddc002d",
   "metadata": {},
   "source": [
    "# Autoencoder"
   ]
  },
  {
   "cell_type": "markdown",
   "id": "612600d2",
   "metadata": {},
   "source": [
    "An autoencoder is a type of artificial neural network used to learn efficient codings of unlabeled data (unsupervised learning). The encoding is validated and refined by attempting to regenerate the input from the encoding. The autoencoder learns a representation (encoding) for a set of data, typically for dimensionality reduction, by training the network to ignore insignificant data (“noise”).\n",
    "\n",
    "Variants exist, aiming to force the learned representations to assume useful properties. Examples are regularized autoencoders (Sparse, Denoising and Contractive), which are effective in learning representations for subsequent classification tasks, and Variational autoencoders, with applications as generative models. Autoencoders are applied to many problems, from facial recognition to acquiring the meaning of words."
   ]
  },
  {
   "cell_type": "code",
   "execution_count": 16,
   "id": "7cf2afc1",
   "metadata": {},
   "outputs": [
    {
     "data": {
      "text/html": [
       "<img src=\"https://miro.medium.com/max/600/1*nqzWupxC60iAH2dYrFT78Q.png\" width=\"400\" height=\"200\"/>"
      ],
      "text/plain": [
       "<IPython.core.display.Image object>"
      ]
     },
     "execution_count": 16,
     "metadata": {},
     "output_type": "execute_result"
    }
   ],
   "source": [
    "Image(url= \"https://miro.medium.com/max/600/1*nqzWupxC60iAH2dYrFT78Q.png\", width=400, height=200)"
   ]
  },
  {
   "cell_type": "code",
   "execution_count": 17,
   "id": "4de01d68",
   "metadata": {},
   "outputs": [
    {
     "data": {
      "text/html": [
       "<img src=\"https://www.compthree.com/images/blog/ae/ae.png\" width=\"400\" height=\"200\"/>"
      ],
      "text/plain": [
       "<IPython.core.display.Image object>"
      ]
     },
     "execution_count": 17,
     "metadata": {},
     "output_type": "execute_result"
    }
   ],
   "source": [
    "Image(url= \"https://www.compthree.com/images/blog/ae/ae.png\", width=400, height=200)"
   ]
  },
  {
   "cell_type": "markdown",
   "id": "95fed4fe",
   "metadata": {},
   "source": [
    "# Clustering Algorithms"
   ]
  },
  {
   "cell_type": "markdown",
   "id": "b93fa609",
   "metadata": {},
   "source": [
    "Cluster analysis or clustering is the task of grouping a set of objects in such a way that objects in the same group (called a cluster) are more similar (in some sense) to each other than to those in other groups (clusters). It is a main task of exploratory data analysis, and a common technique for statistical data analysis, used in many fields, including pattern recognition, image analysis, information retrieval, bioinformatics, data compression, computer graphics and machine learning."
   ]
  },
  {
   "cell_type": "markdown",
   "id": "8d2bdd75",
   "metadata": {},
   "source": [
    "# K Means Clustering"
   ]
  },
  {
   "cell_type": "markdown",
   "id": "425a9166",
   "metadata": {},
   "source": [
    "K-means clustering is a method of vector quantization, originally from signal processing, that aims to partition n observations into k clusters in which each observation belongs to the cluster with the nearest mean (cluster centers or cluster centroid), serving as a prototype of the cluster. This results in a partitioning of the data space into Voronoi cells. k-means clustering minimizes within-cluster variances (squared Euclidean distances), but not regular Euclidean distances, which would be the more difficult Weber problem: the mean optimizes squared errors, whereas only the geometric median minimizes Euclidean distances. For instance, better Euclidean solutions can be found using k-medians and k-medoids."
   ]
  },
  {
   "cell_type": "code",
   "execution_count": 19,
   "id": "ab28fa26",
   "metadata": {},
   "outputs": [
    {
     "data": {
      "text/html": [
       "<img src=\"https://stanford.edu/~cpiech/cs221/img/kmeansViz.png\" width=\"800\" height=\"500\"/>"
      ],
      "text/plain": [
       "<IPython.core.display.Image object>"
      ]
     },
     "execution_count": 19,
     "metadata": {},
     "output_type": "execute_result"
    }
   ],
   "source": [
    "Image(url= \"https://stanford.edu/~cpiech/cs221/img/kmeansViz.png\", width=800, height=500)"
   ]
  },
  {
   "cell_type": "markdown",
   "id": "42850786",
   "metadata": {},
   "source": [
    "# Hierarchical clustering"
   ]
  },
  {
   "cell_type": "markdown",
   "id": "349d113e",
   "metadata": {},
   "source": [
    "In data mining and statistics, hierarchical clustering (also called hierarchical cluster analysis or HCA) is a method of cluster analysis which seeks to build a hierarchy of clusters. Strategies for hierarchical clustering generally fall into two types:[1]\n",
    "\n",
    "**Agglomerative**: This is a \"bottom-up\" approach: each observation starts in its own cluster, and pairs of clusters are merged as one moves up the hierarchy.\n",
    "        \n",
    "**Divisive**: This is a \"top-down\" approach: all observations start in one cluster, and splits are performed recursively as one moves down the hierarchy."
   ]
  },
  {
   "cell_type": "markdown",
   "id": "50bdfbac",
   "metadata": {},
   "source": [
    "https://uc-r.github.io/hc_clustering"
   ]
  },
  {
   "cell_type": "markdown",
   "id": "418dfe17",
   "metadata": {},
   "source": [
    "# Density-based spatial clustering of applications with noise (DBSCAN)"
   ]
  },
  {
   "cell_type": "markdown",
   "id": "f8440a46",
   "metadata": {},
   "source": [
    "Density-based spatial clustering of applications with noise (DBSCAN) is a data clustering algorithm proposed by Martin Ester, Hans-Peter Kriegel, Jörg Sander and Xiaowei Xu in 1996. It is a density-based clustering non-parametric algorithm: given a set of points in some space, it groups together points that are closely packed together (points with many nearby neighbors), marking as outliers points that lie alone in low-density regions (whose nearest neighbors are too far away). DBSCAN is one of the most common clustering algorithms and also most cited in scientific literature."
   ]
  },
  {
   "cell_type": "code",
   "execution_count": 24,
   "id": "39da9300",
   "metadata": {},
   "outputs": [
    {
     "data": {
      "text/html": [
       "<img src=\"https://miro.medium.com/max/627/1*yT96veo7Zb5QeswV7Vr7YQ.png\" width=\"500\" height=\"300\"/>"
      ],
      "text/plain": [
       "<IPython.core.display.Image object>"
      ]
     },
     "execution_count": 24,
     "metadata": {},
     "output_type": "execute_result"
    }
   ],
   "source": [
    "Image(url= \"https://miro.medium.com/max/627/1*yT96veo7Zb5QeswV7Vr7YQ.png\", width=500, height=300)"
   ]
  },
  {
   "cell_type": "code",
   "execution_count": 21,
   "id": "c5a3ac28",
   "metadata": {},
   "outputs": [
    {
     "data": {
      "text/html": [
       "<img src=\"https://scikit-learn.org/stable/_images/sphx_glr_plot_cluster_comparison_0011.png\" width=\"1000\" height=\"800\"/>"
      ],
      "text/plain": [
       "<IPython.core.display.Image object>"
      ]
     },
     "execution_count": 21,
     "metadata": {},
     "output_type": "execute_result"
    }
   ],
   "source": [
    "Image(url= \"https://scikit-learn.org/stable/_images/sphx_glr_plot_cluster_comparison_0011.png\", width=1000, height=800)"
   ]
  },
  {
   "cell_type": "code",
   "execution_count": null,
   "id": "b71efd5e",
   "metadata": {},
   "outputs": [],
   "source": []
  }
 ],
 "metadata": {
  "kernelspec": {
   "display_name": "Python 3",
   "language": "python",
   "name": "python3"
  },
  "language_info": {
   "codemirror_mode": {
    "name": "ipython",
    "version": 3
   },
   "file_extension": ".py",
   "mimetype": "text/x-python",
   "name": "python",
   "nbconvert_exporter": "python",
   "pygments_lexer": "ipython3",
   "version": "3.8.5"
  }
 },
 "nbformat": 4,
 "nbformat_minor": 5
}
