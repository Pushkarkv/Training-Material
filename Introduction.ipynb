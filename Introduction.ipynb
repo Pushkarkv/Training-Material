{
 "cells": [
  {
   "cell_type": "markdown",
   "id": "d3bf259b",
   "metadata": {},
   "source": [
    "# Artificial Inteligence"
   ]
  },
  {
   "cell_type": "markdown",
   "id": "9347f03c",
   "metadata": {},
   "source": [
    "Artificail Inteligence is the inteligance demostrated by machines that try to mimic human inteligance."
   ]
  },
  {
   "cell_type": "markdown",
   "id": "f9b87875",
   "metadata": {},
   "source": [
    "# Machine Learning"
   ]
  },
  {
   "cell_type": "markdown",
   "id": "a57cf2fb",
   "metadata": {},
   "source": [
    "Machine Learning uses Statistical Methods for data analysis and model building. It is a subset of artificial inteligance based on the idea that the machines can learn from data, identifying patterns and make decisions with minimal human intervention."
   ]
  },
  {
   "cell_type": "markdown",
   "id": "f7187803",
   "metadata": {},
   "source": [
    "Wikipedia\n",
    "\n",
    "https://en.wikipedia.org/wiki/Machine_learning"
   ]
  },
  {
   "cell_type": "markdown",
   "id": "df515f7d",
   "metadata": {},
   "source": [
    "# Deep Learning"
   ]
  },
  {
   "cell_type": "markdown",
   "id": "e7402fd9",
   "metadata": {},
   "source": [
    "Deep Learning is a subset of Machine Learning. Artificial Neural Networks are the basic building blocks which are loosely modelled after Human Brain Cells, Neurons."
   ]
  },
  {
   "cell_type": "markdown",
   "id": "618548a5",
   "metadata": {},
   "source": [
    "# AI vs ML vs DL"
   ]
  },
  {
   "cell_type": "code",
   "execution_count": 1,
   "id": "b7b7bf20",
   "metadata": {},
   "outputs": [
    {
     "data": {
      "text/html": [
       "<img src=\"https://3.bp.blogspot.com/-MR0Mhx-QChc/W9Pl3L3-fRI/AAAAAAAAAMo/HWAOfGibiAEttDrvEKvVaF_x6hJruNWpACLcBGAs/s1600/AI%252CML%252CDL.png\" width=\"800\" height=\"400\"/>"
      ],
      "text/plain": [
       "<IPython.core.display.Image object>"
      ]
     },
     "execution_count": 1,
     "metadata": {},
     "output_type": "execute_result"
    }
   ],
   "source": [
    "from IPython.display import Image\n",
    "Image(url= \"https://3.bp.blogspot.com/-MR0Mhx-QChc/W9Pl3L3-fRI/AAAAAAAAAMo/HWAOfGibiAEttDrvEKvVaF_x6hJruNWpACLcBGAs/s1600/AI%252CML%252CDL.png\", width=800, height=400)"
   ]
  },
  {
   "cell_type": "markdown",
   "id": "388c8497",
   "metadata": {},
   "source": [
    "# Data Science"
   ]
  },
  {
   "cell_type": "markdown",
   "id": "c6629ade",
   "metadata": {},
   "source": [
    "Data Science is an interdisciplinary field that uses scientific methods, processes, algorithms and systems to extract knowledge and actionalble insights from data across a broad range of application domains. Data science is a \"concept to unify statistics, data analysis, informatics, and their related methods\" in order to \"understand and analyze actual phenomena\" with data. It uses techniques and theories drawn from many fields within the context of mathematics, statistics, computer science, information science, and domain knowledge."
   ]
  },
  {
   "cell_type": "code",
   "execution_count": 2,
   "id": "44c32f16",
   "metadata": {},
   "outputs": [
    {
     "data": {
      "text/html": [
       "<img src=\"https://www.bing.com/th?id=OIP.DZUqP-G2dA0iQpM0H39_YwHaGj&w=200&h=176&rs=1&qlt=80&o=6&dpr=1.5&pid=3.1\" width=\"400\" height=\"300\"/>"
      ],
      "text/plain": [
       "<IPython.core.display.Image object>"
      ]
     },
     "execution_count": 2,
     "metadata": {},
     "output_type": "execute_result"
    }
   ],
   "source": [
    "Image(url='https://www.bing.com/th?id=OIP.DZUqP-G2dA0iQpM0H39_YwHaGj&w=200&h=176&rs=1&qlt=80&o=6&dpr=1.5&pid=3.1', width=400, height=300)"
   ]
  },
  {
   "cell_type": "markdown",
   "id": "779895a0",
   "metadata": {},
   "source": [
    "# Traditional Programming vs Machine Learning"
   ]
  },
  {
   "cell_type": "code",
   "execution_count": 3,
   "id": "da621bde",
   "metadata": {},
   "outputs": [
    {
     "data": {
      "text/html": [
       "<img src=\"https://datalya.com/blog/content/4-machine-learning/11-machine-learning-vs-traditional-programming-paradigm/ml_vs_traditional_paradigm.png\" width=\"500\" height=\"300\"/>"
      ],
      "text/plain": [
       "<IPython.core.display.Image object>"
      ]
     },
     "execution_count": 3,
     "metadata": {},
     "output_type": "execute_result"
    }
   ],
   "source": [
    "Image(url='https://datalya.com/blog/content/4-machine-learning/11-machine-learning-vs-traditional-programming-paradigm/ml_vs_traditional_paradigm.png', width=500, height=300)"
   ]
  },
  {
   "cell_type": "markdown",
   "id": "a463710d",
   "metadata": {},
   "source": [
    "# Types of Machine Learning"
   ]
  },
  {
   "cell_type": "markdown",
   "id": "38c85b89",
   "metadata": {},
   "source": [
    "There are three types of Machine Learning based on the way models are trained."
   ]
  },
  {
   "cell_type": "markdown",
   "id": "092cd603",
   "metadata": {},
   "source": [
    "https://towardsdatascience.com/machine-learning-types-2-c1291d4f04b1"
   ]
  },
  {
   "cell_type": "markdown",
   "id": "f14eb5c7",
   "metadata": {},
   "source": [
    "# Supervised"
   ]
  },
  {
   "cell_type": "markdown",
   "id": "ac8f0063",
   "metadata": {},
   "source": [
    "Supervised learning algorithms build a mathematical model of a set of data that contains both the inputs and the desired outputs. The data is known as training data, and consists of a set of training examples. Each training example has one or more inputs and the desired output."
   ]
  },
  {
   "cell_type": "markdown",
   "id": "8dc7dc30",
   "metadata": {},
   "source": [
    "# Unsupervised"
   ]
  },
  {
   "cell_type": "markdown",
   "id": "6fe56b3a",
   "metadata": {},
   "source": [
    "Unsupervised learning algorithms take a set of data that contains only inputs, and find structure in the data, like grouping or clustering of data points. The algorithms learn from test data that has not been labeled, classified or categorized. Instead of responding to feedback, unsupervised learning algorithms identify commonalities in the data points and react based on the presence or absence of such commonalities in each new piece of data."
   ]
  },
  {
   "cell_type": "markdown",
   "id": "ace854eb",
   "metadata": {},
   "source": [
    "# Reinforcement"
   ]
  },
  {
   "cell_type": "markdown",
   "id": "7e6cffc2",
   "metadata": {},
   "source": [
    "Reinforcement learning is an area of machine learning concerned with how software agents ought to take actions in an environment so as to maximize some notion of cumulative reward. Due to its generality, the field is studied in many other disciplines, such as game theory, control theory, operations research, information theory, simulation-based optimization, multi-agent systems, statistics. In machine learning, the environment is typically represented as a Markov decision process. Reinforcement learning algorithms do not assume knowledge of an exact mathematical model of the MDP, and are used when exact models are infeasible. Reinforcement learning algorithms are used in autonomous vehicles or in learning to play a game against a human opponent."
   ]
  },
  {
   "cell_type": "code",
   "execution_count": 4,
   "id": "9a1bb24e",
   "metadata": {},
   "outputs": [
    {
     "data": {
      "text/html": [
       "<img src=\"https://www.researchgate.net/profile/Khaled-Shaalan-2/publication/330815113/figure/fig6/AS:729401964634112@1550914388129/Different-machine-learning-types-and-algorithms.png\" width=\"800\" height=\"500\"/>"
      ],
      "text/plain": [
       "<IPython.core.display.Image object>"
      ]
     },
     "execution_count": 4,
     "metadata": {},
     "output_type": "execute_result"
    }
   ],
   "source": [
    "Image(url='https://www.researchgate.net/profile/Khaled-Shaalan-2/publication/330815113/figure/fig6/AS:729401964634112@1550914388129/Different-machine-learning-types-and-algorithms.png', width=800, height=500)"
   ]
  },
  {
   "cell_type": "markdown",
   "id": "2ee5f609",
   "metadata": {},
   "source": [
    "# Regression"
   ]
  },
  {
   "cell_type": "markdown",
   "id": "cbdaf4d4",
   "metadata": {},
   "source": [
    "Regression is the task of predicting a continuous quantity."
   ]
  },
  {
   "cell_type": "markdown",
   "id": "b507b3e8",
   "metadata": {},
   "source": [
    "# Classification"
   ]
  },
  {
   "cell_type": "markdown",
   "id": "6fe9b6dc",
   "metadata": {},
   "source": [
    "Classification is the task of predicting a discrete class label."
   ]
  },
  {
   "cell_type": "markdown",
   "id": "8272f502",
   "metadata": {},
   "source": [
    "# Clustering"
   ]
  },
  {
   "cell_type": "markdown",
   "id": "7f03d98e",
   "metadata": {},
   "source": [
    "Clustering is the task of grouping a set of objects in such a way that objects in the same group (called a cluster) are more similar to each other than to those in other groups (clusters)."
   ]
  },
  {
   "cell_type": "markdown",
   "id": "f10b5501",
   "metadata": {},
   "source": [
    "# Dimentionality Reduction"
   ]
  },
  {
   "cell_type": "markdown",
   "id": "72c3d676",
   "metadata": {},
   "source": [
    "Dimensionality reduction is the transformation of data from a high-dimensional space into a low-dimensional space so that the low-dimensional representation retains some meaningful properties of the original data. Working in high-dimensional spaces can be undesirable for many reasons; raw data are often sparse as a consequence of the curse of dimensionality, and analyzing the data is usually computationally intractable.\n",
    "\n",
    "Dimensionality reduction can be used for noise reduction, data visualization, cluster analysis, or as an intermediate step to facilitate other analyses."
   ]
  },
  {
   "cell_type": "markdown",
   "id": "ad5d21b1",
   "metadata": {},
   "source": [
    "# Deep Learning"
   ]
  },
  {
   "cell_type": "markdown",
   "id": "79d3de10",
   "metadata": {},
   "source": [
    "Deep learning is part of a broader family of machine learning methods based on artificial neural networks with representation learning. Learning can be supervised, semi-supervised or unsupervised.\n",
    "\n",
    "Deep-learning architectures such as deep neural networks, deep belief networks, deep reinforcement learning, recurrent neural networks and convolutional neural networks have been applied to fields including computer vision, speech recognition, natural language processing, machine translation, bioinformatics, drug design, medical image analysis, material inspection and board game programs, where they have produced results comparable to and in some cases surpassing human expert performance.\n",
    "\n",
    "Artificial neural networks (ANNs) were inspired by information processing and distributed communication nodes in biological systems. ANNs have various differences from biological brains. Specifically, neural networks tend to be static and symbolic, while the biological brain of most living organisms is dynamic and analogue.\n",
    "\n",
    "The adjective \"deep\" in deep learning refers to the use of multiple layers in the network. Early work showed that a linear perceptron cannot be a universal classifier, but that a network with a nonpolynomial activation function with one hidden layer of unbounded width can."
   ]
  },
  {
   "cell_type": "code",
   "execution_count": 5,
   "id": "eb77ffba",
   "metadata": {},
   "outputs": [
    {
     "data": {
      "text/html": [
       "<img src=\"https://doclists.in/wp-content/uploads/2020/12/Neuron-Anatomy-scaled-1.jpg\" width=\"400\" height=\"300\"/>"
      ],
      "text/plain": [
       "<IPython.core.display.Image object>"
      ]
     },
     "execution_count": 5,
     "metadata": {},
     "output_type": "execute_result"
    }
   ],
   "source": [
    "Image(url='https://doclists.in/wp-content/uploads/2020/12/Neuron-Anatomy-scaled-1.jpg', width=400, height=300)"
   ]
  },
  {
   "cell_type": "markdown",
   "id": "82b1ef66",
   "metadata": {},
   "source": [
    "# Perceptron"
   ]
  },
  {
   "cell_type": "markdown",
   "id": "b3e6a082",
   "metadata": {},
   "source": [
    "A perceptron is a single-layer neural network. They consist of four main parts including input values, weights and bias, net sum, and an activation function."
   ]
  },
  {
   "cell_type": "code",
   "execution_count": 6,
   "id": "312f7004",
   "metadata": {},
   "outputs": [
    {
     "data": {
      "text/html": [
       "<img src=\"https://th.bing.com/th/id/R.897b394c055281fa992f52e55ed6e2c9?rik=8JXczUJ3X7%2fQFg&riu=http%3a%2f%2fwww.kdnuggets.com%2fwp-content%2fuploads%2fperceptron.jpg&ehk=6UczVMZgGcUPJmlYTj%2fugfd6pVQls6WkhCn4TE9YQss%3d&risl=&pid=ImgRaw\" width=\"400\" height=\"300\"/>"
      ],
      "text/plain": [
       "<IPython.core.display.Image object>"
      ]
     },
     "execution_count": 6,
     "metadata": {},
     "output_type": "execute_result"
    }
   ],
   "source": [
    "Image(url='https://th.bing.com/th/id/R.897b394c055281fa992f52e55ed6e2c9?rik=8JXczUJ3X7%2fQFg&riu=http%3a%2f%2fwww.kdnuggets.com%2fwp-content%2fuploads%2fperceptron.jpg&ehk=6UczVMZgGcUPJmlYTj%2fugfd6pVQls6WkhCn4TE9YQss%3d&risl=&pid=ImgRaw', width=400, height=300)"
   ]
  },
  {
   "cell_type": "markdown",
   "id": "cd8d91db",
   "metadata": {},
   "source": [
    "# Working"
   ]
  },
  {
   "cell_type": "markdown",
   "id": "8f731a80",
   "metadata": {},
   "source": [
    "The process begins by taking all the input values and multiplying them by their weights. Then, all of these multiplied values are added together to create the weighted sum. The weighted sum is then applied to the activation function, producing the perceptron's output. The activation function plays the integral role of ensuring the output is mapped between required values such as (0,1) or (-1,1). It is important to note that the weight of an input is indicative of the strength of a node. Similarly, an input's bias value gives the ability to shift the activation function curve up or down."
   ]
  },
  {
   "cell_type": "code",
   "execution_count": 7,
   "id": "46f56054",
   "metadata": {},
   "outputs": [
    {
     "data": {
      "text/html": [
       "<img src=\"https://images.deepai.org/glossary-terms/perceptron-6168423.jpg\" width=\"400\" height=\"300\"/>"
      ],
      "text/plain": [
       "<IPython.core.display.Image object>"
      ]
     },
     "execution_count": 7,
     "metadata": {},
     "output_type": "execute_result"
    }
   ],
   "source": [
    "Image(url='https://images.deepai.org/glossary-terms/perceptron-6168423.jpg', width=400, height=300)"
   ]
  },
  {
   "cell_type": "markdown",
   "id": "5bd24168",
   "metadata": {},
   "source": [
    "# Multi-Layer Perceptrons"
   ]
  },
  {
   "cell_type": "markdown",
   "id": "0a3360af",
   "metadata": {},
   "source": [
    "A row of neurons is called a layer and one network can have multiple layers. The architecture of the neurons in the network is often called multi-layer perceptrons. While a perceptron can perform simpler tasks, we need to use multiple perceptrons stacked on top of each other to perform complex tasks."
   ]
  },
  {
   "cell_type": "code",
   "execution_count": 8,
   "id": "b9e8cd62",
   "metadata": {},
   "outputs": [
    {
     "data": {
      "text/html": [
       "<img src=\"https://s3.amazonaws.com/stackabuse/media/intro-to-neural-networks-scikit-learn-3.png\" width=\"400\" height=\"300\"/>"
      ],
      "text/plain": [
       "<IPython.core.display.Image object>"
      ]
     },
     "execution_count": 8,
     "metadata": {},
     "output_type": "execute_result"
    }
   ],
   "source": [
    "Image(url='https://s3.amazonaws.com/stackabuse/media/intro-to-neural-networks-scikit-learn-3.png', width=400, height=300)"
   ]
  },
  {
   "cell_type": "code",
   "execution_count": 9,
   "id": "584b0b51",
   "metadata": {},
   "outputs": [
    {
     "data": {
      "text/html": [
       "<img src=\"https://encrypted-tbn0.gstatic.com/images?q=tbn:ANd9GcS5zTEUNykZqZVw2aRawH9g2TV1KkBzWXuAYA&usqp=CAU\" width=\"400\" height=\"300\"/>"
      ],
      "text/plain": [
       "<IPython.core.display.Image object>"
      ]
     },
     "execution_count": 9,
     "metadata": {},
     "output_type": "execute_result"
    }
   ],
   "source": [
    "Image(url='https://encrypted-tbn0.gstatic.com/images?q=tbn:ANd9GcS5zTEUNykZqZVw2aRawH9g2TV1KkBzWXuAYA&usqp=CAU', width=400, height=300)"
   ]
  },
  {
   "cell_type": "code",
   "execution_count": 10,
   "id": "237d1a18",
   "metadata": {},
   "outputs": [
    {
     "data": {
      "text/html": [
       "<img src=\"https://www.oreilly.com/library/view/neural-networks-and/9781492037354/assets/mlst_1007.png\" width=\"400\" height=\"300\"/>"
      ],
      "text/plain": [
       "<IPython.core.display.Image object>"
      ]
     },
     "execution_count": 10,
     "metadata": {},
     "output_type": "execute_result"
    }
   ],
   "source": [
    "Image(url='https://www.oreilly.com/library/view/neural-networks-and/9781492037354/assets/mlst_1007.png', width=400, height=300)"
   ]
  },
  {
   "cell_type": "markdown",
   "id": "42a5f6ce",
   "metadata": {},
   "source": [
    "# Machine learning Life cycle"
   ]
  },
  {
   "cell_type": "markdown",
   "id": "2f826f7d",
   "metadata": {},
   "source": [
    "https://www.javatpoint.com/machine-learning-life-cycle"
   ]
  },
  {
   "cell_type": "code",
   "execution_count": 11,
   "id": "5cd89548",
   "metadata": {},
   "outputs": [
    {
     "data": {
      "text/html": [
       "<img src=\"https://static.javatpoint.com/tutorial/machine-learning/images/machine-learning-life-cycle.png\" width=\"400\" height=\"300\"/>"
      ],
      "text/plain": [
       "<IPython.core.display.Image object>"
      ]
     },
     "execution_count": 11,
     "metadata": {},
     "output_type": "execute_result"
    }
   ],
   "source": [
    "Image(url='https://static.javatpoint.com/tutorial/machine-learning/images/machine-learning-life-cycle.png', width=400, height=300)"
   ]
  },
  {
   "cell_type": "code",
   "execution_count": null,
   "id": "82d00821",
   "metadata": {},
   "outputs": [],
   "source": []
  }
 ],
 "metadata": {
  "kernelspec": {
   "display_name": "Python 3",
   "language": "python",
   "name": "python3"
  },
  "language_info": {
   "codemirror_mode": {
    "name": "ipython",
    "version": 3
   },
   "file_extension": ".py",
   "mimetype": "text/x-python",
   "name": "python",
   "nbconvert_exporter": "python",
   "pygments_lexer": "ipython3",
   "version": "3.8.5"
  }
 },
 "nbformat": 4,
 "nbformat_minor": 5
}
