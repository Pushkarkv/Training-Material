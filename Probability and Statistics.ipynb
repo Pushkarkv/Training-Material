{
 "cells": [
  {
   "cell_type": "markdown",
   "id": "f84b0431",
   "metadata": {},
   "source": [
    "# Probability and Statistics"
   ]
  },
  {
   "cell_type": "markdown",
   "id": "206bfff5",
   "metadata": {},
   "source": [
    "# Random Variable"
   ]
  },
  {
   "cell_type": "markdown",
   "id": "9ac12891",
   "metadata": {},
   "source": [
    "A random variable is a variable whose value is unknown or a function that assigns values to each of an experiment's outcomes. A random variable can be either discrete (having specific values) or continuous (any value in a continuous range)."
   ]
  },
  {
   "cell_type": "markdown",
   "id": "4489db19",
   "metadata": {},
   "source": [
    "# Types of Random Variable"
   ]
  },
  {
   "cell_type": "code",
   "execution_count": 1,
   "id": "e23bbf89",
   "metadata": {},
   "outputs": [
    {
     "data": {
      "text/html": [
       "<img src=\"https://lh3.googleusercontent.com/ouaZ3rY3a2NL356W3kDyYr5HTBFFMzSVK2QSQmptX4oMWmH5rmiBix3RIu-aZ9ptEZZUcKkDhN2A7BmPKgs_bCN6raFf5Car4CxHKsPqu_rmB5f-engm9BsHnTyR2rgLmxCSgq9s\" width=\"500\" height=\"300\"/>"
      ],
      "text/plain": [
       "<IPython.core.display.Image object>"
      ]
     },
     "execution_count": 1,
     "metadata": {},
     "output_type": "execute_result"
    }
   ],
   "source": [
    "from IPython.display import Image\n",
    "Image(url= \"https://lh3.googleusercontent.com/ouaZ3rY3a2NL356W3kDyYr5HTBFFMzSVK2QSQmptX4oMWmH5rmiBix3RIu-aZ9ptEZZUcKkDhN2A7BmPKgs_bCN6raFf5Car4CxHKsPqu_rmB5f-engm9BsHnTyR2rgLmxCSgq9s\", width=500, height=300)"
   ]
  },
  {
   "cell_type": "markdown",
   "id": "49956365",
   "metadata": {},
   "source": [
    "# Probalbility of a Random Variable"
   ]
  },
  {
   "cell_type": "markdown",
   "id": "1d3e0c52",
   "metadata": {},
   "source": [
    "The probability distribution for a random variable describes how the probabilities are distributed over the values of the random variable.\n",
    "\n",
    "The difference between Probability Density Function and Probability Mass Function is in terms of random variables. PDF is relevant for continuous random variables while PMF is relevant for discrete random variable."
   ]
  },
  {
   "cell_type": "code",
   "execution_count": 2,
   "id": "c1e7b5c0",
   "metadata": {},
   "outputs": [
    {
     "data": {
      "text/html": [
       "<img src=\"https://cnx.org/resources/bccb87a6dec43a70bfc9764e5fdcad262da539a2/figure1.png\" width=\"500\" height=\"300\"/>"
      ],
      "text/plain": [
       "<IPython.core.display.Image object>"
      ]
     },
     "execution_count": 2,
     "metadata": {},
     "output_type": "execute_result"
    }
   ],
   "source": [
    "Image(url= \"https://cnx.org/resources/bccb87a6dec43a70bfc9764e5fdcad262da539a2/figure1.png\", width=500, height=300)"
   ]
  },
  {
   "cell_type": "markdown",
   "id": "74574d3c",
   "metadata": {},
   "source": [
    "# Sample vs Population"
   ]
  },
  {
   "cell_type": "markdown",
   "id": "9ba006ab",
   "metadata": {},
   "source": [
    "A population is the entire group that you want to draw conclusions about. A sample is the specific group that you will collect data from. The size of the sample is always less than the total size of the population."
   ]
  },
  {
   "cell_type": "markdown",
   "id": "0cbb5749",
   "metadata": {},
   "source": [
    "# Univariate Analysis"
   ]
  },
  {
   "cell_type": "markdown",
   "id": "02bd6f05",
   "metadata": {},
   "source": [
    "Univariate analysis is the simplest form of analyzing data. “Uni” means “one”, so in other words your data has only one variable. It doesn't deal with causes or relationships (unlike regression ) and it's major purpose is to describe; It takes data, summarizes that data and finds patterns in the data."
   ]
  },
  {
   "cell_type": "markdown",
   "id": "28b71597",
   "metadata": {},
   "source": [
    "# Distributions"
   ]
  },
  {
   "cell_type": "markdown",
   "id": "ee453878",
   "metadata": {},
   "source": [
    "https://www.analyticsvidhya.com/blog/2017/09/6-probability-distributions-data-science/"
   ]
  },
  {
   "cell_type": "markdown",
   "id": "b08f429b",
   "metadata": {},
   "source": [
    "# Normal Distribution/ Gaussian Distribution"
   ]
  },
  {
   "cell_type": "markdown",
   "id": "fa5b3be8",
   "metadata": {},
   "source": [
    "The normal distribution is a probability function that describes how the values of a variable are distributed. It is a symmetric distribution where most of the observations cluster around the central peak and the probabilities for values further away from the mean taper off equally in both directions."
   ]
  },
  {
   "cell_type": "markdown",
   "id": "ddf3e4c9",
   "metadata": {},
   "source": [
    "https://en.wikipedia.org/wiki/Normal_distribution"
   ]
  },
  {
   "cell_type": "code",
   "execution_count": 3,
   "id": "218ccec6",
   "metadata": {},
   "outputs": [
    {
     "data": {
      "text/html": [
       "<img src=\"data:image/png;base64,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\" width=\"500\" height=\"300\"/>"
      ],
      "text/plain": [
       "<IPython.core.display.Image object>"
      ]
     },
     "execution_count": 3,
     "metadata": {},
     "output_type": "execute_result"
    }
   ],
   "source": [
    "Image(url= \"data:image/png;base64,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\", width=500, height=300)"
   ]
  },
  {
   "cell_type": "markdown",
   "id": "73682be7",
   "metadata": {},
   "source": [
    "If we know that any distribution is Normal and we know the Mean and Standard Deviation we can predict the probability of occurance of random variable in any interval."
   ]
  },
  {
   "cell_type": "markdown",
   "id": "47ea09c0",
   "metadata": {},
   "source": [
    "# Standard Normal Distribution"
   ]
  },
  {
   "cell_type": "markdown",
   "id": "09e0a3a2",
   "metadata": {},
   "source": [
    "The standard normal distribution is a normal distribution with a mean of zero and standard deviation of 1. The standard normal distribution is centered at zero and the degree to which a given measurement deviates from the mean is given by the standard deviation."
   ]
  },
  {
   "cell_type": "code",
   "execution_count": 5,
   "id": "d6b51f61",
   "metadata": {},
   "outputs": [
    {
     "data": {
      "text/html": [
       "<img src=\"https://cdn.scribbr.com/wp-content/uploads/2020/10/standard-normal-distribution-1024x633.png\" width=\"500\" height=\"300\"/>"
      ],
      "text/plain": [
       "<IPython.core.display.Image object>"
      ]
     },
     "execution_count": 5,
     "metadata": {},
     "output_type": "execute_result"
    }
   ],
   "source": [
    "Image(url= \"https://cdn.scribbr.com/wp-content/uploads/2020/10/standard-normal-distribution-1024x633.png\", width=500, height=300)"
   ]
  },
  {
   "cell_type": "markdown",
   "id": "cb8306dc",
   "metadata": {},
   "source": [
    "# Measuring Central Tendency"
   ]
  },
  {
   "cell_type": "markdown",
   "id": "757d3e88",
   "metadata": {},
   "source": [
    "# Mean"
   ]
  },
  {
   "cell_type": "markdown",
   "id": "261f2887",
   "metadata": {},
   "source": [
    "The mean of a given data is the sum of all observations divided by the number of observations."
   ]
  },
  {
   "cell_type": "markdown",
   "id": "0be3f8b2",
   "metadata": {},
   "source": [
    "# Meadian"
   ]
  },
  {
   "cell_type": "markdown",
   "id": "900f3ec0",
   "metadata": {},
   "source": [
    "The value of the middlemost observation, obtained after arranging the data in ascending order, is called the median of the data."
   ]
  },
  {
   "cell_type": "markdown",
   "id": "34b02d50",
   "metadata": {},
   "source": [
    "# Mode"
   ]
  },
  {
   "cell_type": "markdown",
   "id": "b08ebae4",
   "metadata": {},
   "source": [
    "The value which appears most often in the given data i.e. the observation with the highest frequency is called a mode of data."
   ]
  },
  {
   "cell_type": "code",
   "execution_count": 8,
   "id": "4e5104ae",
   "metadata": {},
   "outputs": [
    {
     "data": {
      "text/html": [
       "<img src=\"https://upload.wikimedia.org/wikipedia/commons/thumb/c/cc/Relationship_between_mean_and_median_under_different_skewness.png/434px-Relationship_between_mean_and_median_under_different_skewness.png\" width=\"800\" height=\"500\"/>"
      ],
      "text/plain": [
       "<IPython.core.display.Image object>"
      ]
     },
     "execution_count": 8,
     "metadata": {},
     "output_type": "execute_result"
    }
   ],
   "source": [
    "Image(url= \"https://upload.wikimedia.org/wikipedia/commons/thumb/c/cc/Relationship_between_mean_and_median_under_different_skewness.png/434px-Relationship_between_mean_and_median_under_different_skewness.png\", width=800, height=500)"
   ]
  },
  {
   "cell_type": "markdown",
   "id": "00c2f967",
   "metadata": {},
   "source": [
    "# Measuring Spread/ Variability"
   ]
  },
  {
   "cell_type": "markdown",
   "id": "da83b8cd",
   "metadata": {},
   "source": [
    "Variability describes how far apart data points lie from each other and from the center of a distribution. Along with measures of central tendency, measures of variability give you descriptive statistics that summarize your data."
   ]
  },
  {
   "cell_type": "markdown",
   "id": "59081a4a",
   "metadata": {},
   "source": [
    "# Range"
   ]
  },
  {
   "cell_type": "markdown",
   "id": "327838cf",
   "metadata": {},
   "source": [
    "The difference between the highest and lowest values."
   ]
  },
  {
   "cell_type": "markdown",
   "id": "9c6d0ed2",
   "metadata": {},
   "source": [
    "# Variance"
   ]
  },
  {
   "cell_type": "markdown",
   "id": "6f3e7be6",
   "metadata": {},
   "source": [
    "Average of squared distances from the mean."
   ]
  },
  {
   "cell_type": "markdown",
   "id": "81581472",
   "metadata": {},
   "source": [
    "# Standard Deviation"
   ]
  },
  {
   "cell_type": "markdown",
   "id": "70877ca5",
   "metadata": {},
   "source": [
    "Square root of average squared distances from the mean. ie. Square root of variance."
   ]
  },
  {
   "cell_type": "markdown",
   "id": "461d1fce",
   "metadata": {},
   "source": [
    "# Quartiles"
   ]
  },
  {
   "cell_type": "markdown",
   "id": "df0f6190",
   "metadata": {},
   "source": [
    "Quartiles are the values that divide a list of numbers into quarters."
   ]
  },
  {
   "cell_type": "markdown",
   "id": "03e89894",
   "metadata": {},
   "source": [
    "https://www.mathsisfun.com/data/quartiles.html"
   ]
  },
  {
   "cell_type": "markdown",
   "id": "4a08f272",
   "metadata": {},
   "source": [
    "# Inter Quartile Range"
   ]
  },
  {
   "cell_type": "markdown",
   "id": "aebd0dc4",
   "metadata": {},
   "source": [
    "The distance/ range between 1st and 3rd Quartiles."
   ]
  },
  {
   "cell_type": "markdown",
   "id": "d2bd081b",
   "metadata": {},
   "source": [
    "# Sampling from a population & Central Limit Theorem"
   ]
  },
  {
   "cell_type": "markdown",
   "id": "0ce5f5e0",
   "metadata": {},
   "source": [
    "The central limit theorem states that if you have a population with mean μ and standard deviation σ and take sufficiently large random samples from the population with replacement text annotation indicator, then the distribution of the sample means will be approximately normally distributed. This will hold true regardless of whether the source population is normal or skewed, provided the sample size is sufficiently large (usually n > 30). If the population is normal, then the theorem holds true even for samples smaller than 30. In fact, this also holds true even if the population is binomial, provided that min(np, n(1-p))> 5, where n is the sample size and p is the probability of success in the population. This means that we can use the normal probability model to quantify uncertainty when making inferences about a population mean based on the sample mean."
   ]
  },
  {
   "cell_type": "markdown",
   "id": "701dbe44",
   "metadata": {},
   "source": [
    "https://sphweb.bumc.bu.edu/otlt/mph-modules/bs/bs704_probability/BS704_Probability12.html"
   ]
  },
  {
   "cell_type": "markdown",
   "id": "833bf53a",
   "metadata": {},
   "source": [
    "# Bivariate Analysis"
   ]
  },
  {
   "cell_type": "markdown",
   "id": "9b306d0a",
   "metadata": {},
   "source": [
    "Bivariate analysis is one of the simplest forms of quantitative (statistical) analysis. It involves the analysis of two variables (often denoted as X, Y), for the purpose of determining the empirical relationship between them."
   ]
  },
  {
   "cell_type": "markdown",
   "id": "4b00ab5f",
   "metadata": {},
   "source": [
    "# Covariance"
   ]
  },
  {
   "cell_type": "markdown",
   "id": "4c02dcfd",
   "metadata": {},
   "source": [
    "covariance is a measure of the joint variability of two random variables. If the greater values of one variable mainly correspond with the greater values of the other variable, and the same holds for the lesser values (that is, the variables tend to show similar behavior), the covariance is positive. In the opposite case, when the greater values of one variable mainly correspond to the lesser values of the other, (that is, the variables tend to show opposite behavior), the covariance is negative. The sign of the covariance therefore shows the tendency in the linear relationship between the variables. The magnitude of the covariance is not easy to interpret because it is not normalized and hence depends on the magnitudes of the variables. The normalized version of the covariance, the correlation coefficient, however, shows by its magnitude the strength of the linear relation."
   ]
  },
  {
   "cell_type": "markdown",
   "id": "3b2198d2",
   "metadata": {},
   "source": [
    "# Pearson Correlation Coefficient"
   ]
  },
  {
   "cell_type": "markdown",
   "id": "c82fa7a4",
   "metadata": {},
   "source": [
    "Pearson Correlation Coefficient is a measure of linear correlation between two sets of data. It is the ratio between the covariance of two variables and the product of their standard deviations; thus it is essentially a normalised measurement of the covariance, such that the result always has a value between −1 and 1. As with covariance itself, the measure can only reflect a linear correlation of variables, and ignores many other types of relationship or correlation."
   ]
  },
  {
   "cell_type": "markdown",
   "id": "f4231553",
   "metadata": {},
   "source": [
    "https://en.wikipedia.org/wiki/Pearson_correlation_coefficient"
   ]
  },
  {
   "cell_type": "code",
   "execution_count": 13,
   "id": "9b035be4",
   "metadata": {},
   "outputs": [
    {
     "data": {
      "text/html": [
       "<img src=\"https://upload.wikimedia.org/wikipedia/commons/thumb/d/d4/Correlation_examples2.svg/1920px-Correlation_examples2.svg.png\" width=\"800\" height=\"500\"/>"
      ],
      "text/plain": [
       "<IPython.core.display.Image object>"
      ]
     },
     "execution_count": 13,
     "metadata": {},
     "output_type": "execute_result"
    }
   ],
   "source": [
    "Image(url= \"https://upload.wikimedia.org/wikipedia/commons/thumb/d/d4/Correlation_examples2.svg/1920px-Correlation_examples2.svg.png\", width=800, height=500)"
   ]
  },
  {
   "cell_type": "markdown",
   "id": "2be11447",
   "metadata": {},
   "source": [
    "# Spearman's Rank Correlation Coefficient"
   ]
  },
  {
   "cell_type": "markdown",
   "id": "99dc6d3b",
   "metadata": {},
   "source": [
    "The Spearman correlation between two variables is equal to the Pearson correlation between the rank values of those two variables; while Pearson's correlation assesses linear relationships, Spearman's correlation assesses monotonic relationships (whether linear or not). If there are no repeated data values, a perfect Spearman correlation of +1 or −1 occurs when each of the variables is a perfect monotone function of the other.\n",
    "\n",
    "Intuitively, the Spearman correlation between two variables will be high when observations have a similar (or identical for a correlation of 1) rank (i.e. relative position label of the observations within the variable: 1st, 2nd, 3rd, etc.) between the two variables, and low when observations have a dissimilar (or fully opposed for a correlation of −1) rank between the two variables."
   ]
  },
  {
   "cell_type": "markdown",
   "id": "050c4bdd",
   "metadata": {},
   "source": [
    "https://en.wikipedia.org/wiki/Spearman%27s_rank_correlation_coefficient"
   ]
  },
  {
   "cell_type": "code",
   "execution_count": 18,
   "id": "dce2be66",
   "metadata": {},
   "outputs": [
    {
     "data": {
      "text/html": [
       "<img src=\"https://upload.wikimedia.org/wikipedia/commons/thumb/4/4e/Spearman_fig1.svg/450px-Spearman_fig1.svg.png\" width=\"500\" height=\"300\"/>"
      ],
      "text/plain": [
       "<IPython.core.display.Image object>"
      ]
     },
     "execution_count": 18,
     "metadata": {},
     "output_type": "execute_result"
    }
   ],
   "source": [
    "Image(url= \"https://upload.wikimedia.org/wikipedia/commons/thumb/4/4e/Spearman_fig1.svg/450px-Spearman_fig1.svg.png\", width=500, height=300)"
   ]
  },
  {
   "cell_type": "code",
   "execution_count": 16,
   "id": "f99104fc",
   "metadata": {},
   "outputs": [
    {
     "data": {
      "text/html": [
       "<img src=\"https://upload.wikimedia.org/wikipedia/commons/thumb/8/80/Spearman_fig2.svg/450px-Spearman_fig2.svg.png\" width=\"500\" height=\"300\"/>"
      ],
      "text/plain": [
       "<IPython.core.display.Image object>"
      ]
     },
     "execution_count": 16,
     "metadata": {},
     "output_type": "execute_result"
    }
   ],
   "source": [
    "Image(url= \"https://upload.wikimedia.org/wikipedia/commons/thumb/8/80/Spearman_fig2.svg/450px-Spearman_fig2.svg.png\", width=500, height=300)"
   ]
  },
  {
   "cell_type": "code",
   "execution_count": 17,
   "id": "345e44f2",
   "metadata": {},
   "outputs": [
    {
     "data": {
      "text/html": [
       "<img src=\"https://upload.wikimedia.org/wikipedia/commons/thumb/6/67/Spearman_fig3.svg/450px-Spearman_fig3.svg.png\" width=\"500\" height=\"300\"/>"
      ],
      "text/plain": [
       "<IPython.core.display.Image object>"
      ]
     },
     "execution_count": 17,
     "metadata": {},
     "output_type": "execute_result"
    }
   ],
   "source": [
    "Image(url= \"https://upload.wikimedia.org/wikipedia/commons/thumb/6/67/Spearman_fig3.svg/450px-Spearman_fig3.svg.png\", width=500, height=300)"
   ]
  },
  {
   "cell_type": "markdown",
   "id": "5740d178",
   "metadata": {},
   "source": [
    "# Confidence Interval"
   ]
  },
  {
   "cell_type": "markdown",
   "id": "ff83d799",
   "metadata": {},
   "source": [
    "Confidence Interval is a type of estimate computed from the statistics of the observed data. This gives a range of values for an unknown parameter (for example, a population mean). The interval has an associated confidence level that gives the probability with which an estimated interval will contain the true value of the parameter. The confidence level is chosen by the investigator. For a given estimation in a given sample, using a higher confidence level generates a wider (i.e., less precise) confidence interval. In general terms, a confidence interval for an unknown parameter is based on sampling the distribution of a corresponding estimator.\n",
    "\n",
    "This means that the confidence level represents the theoretical long-run frequency (i.e., the proportion) of confidence intervals that contain the true value of the unknown population parameter. In other words, 90% of confidence intervals computed at the 90% confidence level contain the parameter, 95% of confidence intervals computed at the 95% confidence level contain the parameter, 99% of confidence intervals computed at the 99% confidence level contain the parameter, etc.\n",
    "\n",
    "The confidence level is designated before examining the data. Most commonly, a 95% confidence level is used. However, other confidence levels, such as 90% or 99%, are sometimes used."
   ]
  },
  {
   "cell_type": "markdown",
   "id": "454ac8a8",
   "metadata": {},
   "source": [
    "# Interpreting Confidance Interval"
   ]
  },
  {
   "cell_type": "code",
   "execution_count": 20,
   "id": "0ddf9a4f",
   "metadata": {},
   "outputs": [
    {
     "data": {
      "text/html": [
       "<img src=\"https://programmathically.com/wp-content/uploads/2021/01/Standard_deviation_diagram-1024x512.png\" width=\"500\" height=\"300\"/>"
      ],
      "text/plain": [
       "<IPython.core.display.Image object>"
      ]
     },
     "execution_count": 20,
     "metadata": {},
     "output_type": "execute_result"
    }
   ],
   "source": [
    "Image(url= \"https://programmathically.com/wp-content/uploads/2021/01/Standard_deviation_diagram-1024x512.png\", width=500, height=300)"
   ]
  },
  {
   "cell_type": "markdown",
   "id": "4e8a44d8",
   "metadata": {},
   "source": [
    "# CI interpretation in Linear Regression"
   ]
  },
  {
   "cell_type": "code",
   "execution_count": 21,
   "id": "78345da6",
   "metadata": {},
   "outputs": [
    {
     "data": {
      "text/html": [
       "<img src=\"https://i.stack.imgur.com/GeeI3.png\" width=\"500\" height=\"300\"/>"
      ],
      "text/plain": [
       "<IPython.core.display.Image object>"
      ]
     },
     "execution_count": 21,
     "metadata": {},
     "output_type": "execute_result"
    }
   ],
   "source": [
    "Image(url= \"https://i.stack.imgur.com/GeeI3.png\", width=500, height=300)"
   ]
  },
  {
   "cell_type": "code",
   "execution_count": null,
   "id": "6091c6f0",
   "metadata": {},
   "outputs": [],
   "source": []
  }
 ],
 "metadata": {
  "kernelspec": {
   "display_name": "Python 3",
   "language": "python",
   "name": "python3"
  },
  "language_info": {
   "codemirror_mode": {
    "name": "ipython",
    "version": 3
   },
   "file_extension": ".py",
   "mimetype": "text/x-python",
   "name": "python",
   "nbconvert_exporter": "python",
   "pygments_lexer": "ipython3",
   "version": "3.8.5"
  }
 },
 "nbformat": 4,
 "nbformat_minor": 5
}
